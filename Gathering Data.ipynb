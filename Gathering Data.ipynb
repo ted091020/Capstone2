{
 "cells": [
  {
   "cell_type": "code",
   "execution_count": 1,
   "metadata": {},
   "outputs": [],
   "source": [
    "import pandas as pd\n",
    "import numpy as np\n",
    "import json"
   ]
  },
  {
   "cell_type": "markdown",
   "metadata": {},
   "source": [
    "# Start by loading the population data"
   ]
  },
  {
   "cell_type": "code",
   "execution_count": 2,
   "metadata": {},
   "outputs": [],
   "source": [
    "raw_pop_data = pd.read_csv(r'C:\\Users\\Evan\\Desktop\\Capstone 2\\Data\\Raw Data\\NY_population_by_zip_code.csv', header=1)"
   ]
  },
  {
   "cell_type": "code",
   "execution_count": 3,
   "metadata": {},
   "outputs": [
    {
     "data": {
      "text/html": [
       "<div>\n",
       "<style scoped>\n",
       "    .dataframe tbody tr th:only-of-type {\n",
       "        vertical-align: middle;\n",
       "    }\n",
       "\n",
       "    .dataframe tbody tr th {\n",
       "        vertical-align: top;\n",
       "    }\n",
       "\n",
       "    .dataframe thead th {\n",
       "        text-align: right;\n",
       "    }\n",
       "</style>\n",
       "<table border=\"1\" class=\"dataframe\">\n",
       "  <thead>\n",
       "    <tr style=\"text-align: right;\">\n",
       "      <th></th>\n",
       "      <th>Id</th>\n",
       "      <th>zipcode</th>\n",
       "      <th>Geography</th>\n",
       "      <th>population</th>\n",
       "      <th>Margin of Error; Total</th>\n",
       "    </tr>\n",
       "  </thead>\n",
       "  <tbody>\n",
       "    <tr>\n",
       "      <th>0</th>\n",
       "      <td>8600000US06390</td>\n",
       "      <td>6390</td>\n",
       "      <td>ZCTA5 06390</td>\n",
       "      <td>230</td>\n",
       "      <td>139</td>\n",
       "    </tr>\n",
       "    <tr>\n",
       "      <th>1</th>\n",
       "      <td>8600000US07421</td>\n",
       "      <td>7421</td>\n",
       "      <td>ZCTA5 07421</td>\n",
       "      <td>7351</td>\n",
       "      <td>509</td>\n",
       "    </tr>\n",
       "    <tr>\n",
       "      <th>2</th>\n",
       "      <td>8600000US10001</td>\n",
       "      <td>10001</td>\n",
       "      <td>ZCTA5 10001</td>\n",
       "      <td>23947</td>\n",
       "      <td>1738</td>\n",
       "    </tr>\n",
       "    <tr>\n",
       "      <th>3</th>\n",
       "      <td>8600000US10002</td>\n",
       "      <td>10002</td>\n",
       "      <td>ZCTA5 10002</td>\n",
       "      <td>77925</td>\n",
       "      <td>2031</td>\n",
       "    </tr>\n",
       "    <tr>\n",
       "      <th>4</th>\n",
       "      <td>8600000US10003</td>\n",
       "      <td>10003</td>\n",
       "      <td>ZCTA5 10003</td>\n",
       "      <td>55035</td>\n",
       "      <td>1789</td>\n",
       "    </tr>\n",
       "  </tbody>\n",
       "</table>\n",
       "</div>"
      ],
      "text/plain": [
       "               Id  zipcode    Geography  population  Margin of Error; Total\n",
       "0  8600000US06390     6390  ZCTA5 06390         230                     139\n",
       "1  8600000US07421     7421  ZCTA5 07421        7351                     509\n",
       "2  8600000US10001    10001  ZCTA5 10001       23947                    1738\n",
       "3  8600000US10002    10002  ZCTA5 10002       77925                    2031\n",
       "4  8600000US10003    10003  ZCTA5 10003       55035                    1789"
      ]
     },
     "execution_count": 3,
     "metadata": {},
     "output_type": "execute_result"
    }
   ],
   "source": [
    "raw_pop_data.head()"
   ]
  },
  {
   "cell_type": "markdown",
   "metadata": {},
   "source": [
    "# Get rid of unneccessary columns"
   ]
  },
  {
   "cell_type": "code",
   "execution_count": 4,
   "metadata": {},
   "outputs": [
    {
     "data": {
      "text/html": [
       "<div>\n",
       "<style scoped>\n",
       "    .dataframe tbody tr th:only-of-type {\n",
       "        vertical-align: middle;\n",
       "    }\n",
       "\n",
       "    .dataframe tbody tr th {\n",
       "        vertical-align: top;\n",
       "    }\n",
       "\n",
       "    .dataframe thead th {\n",
       "        text-align: right;\n",
       "    }\n",
       "</style>\n",
       "<table border=\"1\" class=\"dataframe\">\n",
       "  <thead>\n",
       "    <tr style=\"text-align: right;\">\n",
       "      <th></th>\n",
       "      <th>postalcode</th>\n",
       "      <th>population</th>\n",
       "    </tr>\n",
       "  </thead>\n",
       "  <tbody>\n",
       "    <tr>\n",
       "      <th>0</th>\n",
       "      <td>6390</td>\n",
       "      <td>230</td>\n",
       "    </tr>\n",
       "    <tr>\n",
       "      <th>1</th>\n",
       "      <td>7421</td>\n",
       "      <td>7351</td>\n",
       "    </tr>\n",
       "    <tr>\n",
       "      <th>2</th>\n",
       "      <td>10001</td>\n",
       "      <td>23947</td>\n",
       "    </tr>\n",
       "    <tr>\n",
       "      <th>3</th>\n",
       "      <td>10002</td>\n",
       "      <td>77925</td>\n",
       "    </tr>\n",
       "    <tr>\n",
       "      <th>4</th>\n",
       "      <td>10003</td>\n",
       "      <td>55035</td>\n",
       "    </tr>\n",
       "  </tbody>\n",
       "</table>\n",
       "</div>"
      ],
      "text/plain": [
       "   postalcode  population\n",
       "0        6390         230\n",
       "1        7421        7351\n",
       "2       10001       23947\n",
       "3       10002       77925\n",
       "4       10003       55035"
      ]
     },
     "execution_count": 4,
     "metadata": {},
     "output_type": "execute_result"
    }
   ],
   "source": [
    "pop_data = raw_pop_data.drop(['Id', 'Geography', 'Margin of Error; Total'], axis=1)\n",
    "pop_data.columns = ['postalcode', 'population']\n",
    "pop_data.head()"
   ]
  },
  {
   "cell_type": "markdown",
   "metadata": {},
   "source": [
    "# Now load income data"
   ]
  },
  {
   "cell_type": "code",
   "execution_count": 5,
   "metadata": {},
   "outputs": [],
   "source": [
    "raw_income_data = pd.read_csv(r'C:\\Users\\Evan\\Desktop\\Capstone 2\\Data\\Raw Data\\NY_med_income.csv', header=1)"
   ]
  },
  {
   "cell_type": "markdown",
   "metadata": {},
   "source": [
    "# Get rid of unnecessary columns"
   ]
  },
  {
   "cell_type": "code",
   "execution_count": 6,
   "metadata": {},
   "outputs": [
    {
     "data": {
      "text/html": [
       "<div>\n",
       "<style scoped>\n",
       "    .dataframe tbody tr th:only-of-type {\n",
       "        vertical-align: middle;\n",
       "    }\n",
       "\n",
       "    .dataframe tbody tr th {\n",
       "        vertical-align: top;\n",
       "    }\n",
       "\n",
       "    .dataframe thead th {\n",
       "        text-align: right;\n",
       "    }\n",
       "</style>\n",
       "<table border=\"1\" class=\"dataframe\">\n",
       "  <thead>\n",
       "    <tr style=\"text-align: right;\">\n",
       "      <th></th>\n",
       "      <th>postalcode</th>\n",
       "      <th>med_income</th>\n",
       "    </tr>\n",
       "  </thead>\n",
       "  <tbody>\n",
       "    <tr>\n",
       "      <th>0</th>\n",
       "      <td>6390</td>\n",
       "      <td>150703</td>\n",
       "    </tr>\n",
       "    <tr>\n",
       "      <th>1</th>\n",
       "      <td>7421</td>\n",
       "      <td>90412</td>\n",
       "    </tr>\n",
       "    <tr>\n",
       "      <th>2</th>\n",
       "      <td>10001</td>\n",
       "      <td>85221</td>\n",
       "    </tr>\n",
       "    <tr>\n",
       "      <th>3</th>\n",
       "      <td>10002</td>\n",
       "      <td>35449</td>\n",
       "    </tr>\n",
       "    <tr>\n",
       "      <th>4</th>\n",
       "      <td>10003</td>\n",
       "      <td>104441</td>\n",
       "    </tr>\n",
       "  </tbody>\n",
       "</table>\n",
       "</div>"
      ],
      "text/plain": [
       "   postalcode med_income\n",
       "0        6390     150703\n",
       "1        7421      90412\n",
       "2       10001      85221\n",
       "3       10002      35449\n",
       "4       10003     104441"
      ]
     },
     "execution_count": 6,
     "metadata": {},
     "output_type": "execute_result"
    }
   ],
   "source": [
    "income_data = raw_income_data[['Id2', 'Median income (dollars); Estimate; Households']]\n",
    "income_data.columns = ['postalcode', 'med_income']\n",
    "income_data.head()"
   ]
  },
  {
   "cell_type": "markdown",
   "metadata": {},
   "source": [
    "# Merge population and income data"
   ]
  },
  {
   "cell_type": "code",
   "execution_count": 7,
   "metadata": {},
   "outputs": [],
   "source": [
    "ny_pop_inc = pop_data.merge(income_data, on='postalcode')"
   ]
  },
  {
   "cell_type": "code",
   "execution_count": 8,
   "metadata": {},
   "outputs": [
    {
     "data": {
      "text/html": [
       "<div>\n",
       "<style scoped>\n",
       "    .dataframe tbody tr th:only-of-type {\n",
       "        vertical-align: middle;\n",
       "    }\n",
       "\n",
       "    .dataframe tbody tr th {\n",
       "        vertical-align: top;\n",
       "    }\n",
       "\n",
       "    .dataframe thead th {\n",
       "        text-align: right;\n",
       "    }\n",
       "</style>\n",
       "<table border=\"1\" class=\"dataframe\">\n",
       "  <thead>\n",
       "    <tr style=\"text-align: right;\">\n",
       "      <th></th>\n",
       "      <th>postalcode</th>\n",
       "      <th>population</th>\n",
       "      <th>med_income</th>\n",
       "    </tr>\n",
       "  </thead>\n",
       "  <tbody>\n",
       "    <tr>\n",
       "      <th>0</th>\n",
       "      <td>6390</td>\n",
       "      <td>230</td>\n",
       "      <td>150703</td>\n",
       "    </tr>\n",
       "    <tr>\n",
       "      <th>1</th>\n",
       "      <td>7421</td>\n",
       "      <td>7351</td>\n",
       "      <td>90412</td>\n",
       "    </tr>\n",
       "    <tr>\n",
       "      <th>2</th>\n",
       "      <td>10001</td>\n",
       "      <td>23947</td>\n",
       "      <td>85221</td>\n",
       "    </tr>\n",
       "    <tr>\n",
       "      <th>3</th>\n",
       "      <td>10002</td>\n",
       "      <td>77925</td>\n",
       "      <td>35449</td>\n",
       "    </tr>\n",
       "    <tr>\n",
       "      <th>4</th>\n",
       "      <td>10003</td>\n",
       "      <td>55035</td>\n",
       "      <td>104441</td>\n",
       "    </tr>\n",
       "  </tbody>\n",
       "</table>\n",
       "</div>"
      ],
      "text/plain": [
       "   postalcode  population med_income\n",
       "0        6390         230     150703\n",
       "1        7421        7351      90412\n",
       "2       10001       23947      85221\n",
       "3       10002       77925      35449\n",
       "4       10003       55035     104441"
      ]
     },
     "execution_count": 8,
     "metadata": {},
     "output_type": "execute_result"
    }
   ],
   "source": [
    "ny_pop_inc.head()"
   ]
  },
  {
   "cell_type": "markdown",
   "metadata": {},
   "source": [
    "# Load restaurant data"
   ]
  },
  {
   "cell_type": "code",
   "execution_count": 9,
   "metadata": {},
   "outputs": [],
   "source": [
    "ny_data = pd.read_csv(r'C:\\Users\\Evan\\Desktop\\Capstone 2\\Data\\Raw Data\\NYC_Restaurant_Inspection_Results.csv', header=0)"
   ]
  },
  {
   "cell_type": "code",
   "execution_count": 10,
   "metadata": {},
   "outputs": [],
   "source": [
    "ny_data = ny_data.drop_duplicates(subset=['DBA', 'BORO', 'BUILDING', 'STREET', 'ZIPCODE', 'PHONE', 'CUISINE DESCRIPTION'])"
   ]
  },
  {
   "cell_type": "code",
   "execution_count": 11,
   "metadata": {},
   "outputs": [
    {
     "data": {
      "text/html": [
       "<div>\n",
       "<style scoped>\n",
       "    .dataframe tbody tr th:only-of-type {\n",
       "        vertical-align: middle;\n",
       "    }\n",
       "\n",
       "    .dataframe tbody tr th {\n",
       "        vertical-align: top;\n",
       "    }\n",
       "\n",
       "    .dataframe thead th {\n",
       "        text-align: right;\n",
       "    }\n",
       "</style>\n",
       "<table border=\"1\" class=\"dataframe\">\n",
       "  <thead>\n",
       "    <tr style=\"text-align: right;\">\n",
       "      <th></th>\n",
       "      <th>DBA</th>\n",
       "      <th>BORO</th>\n",
       "      <th>BUILDING</th>\n",
       "      <th>STREET</th>\n",
       "      <th>ZIPCODE</th>\n",
       "      <th>PHONE</th>\n",
       "      <th>CUISINE DESCRIPTION</th>\n",
       "      <th>VIOLATION DESCRIPTION</th>\n",
       "      <th>SCORE</th>\n",
       "      <th>GRADE</th>\n",
       "    </tr>\n",
       "  </thead>\n",
       "  <tbody>\n",
       "    <tr>\n",
       "      <th>0</th>\n",
       "      <td>UNCLE LOUIE G’S ITALIAN ICES &amp; ICE CREAM</td>\n",
       "      <td>Brooklyn</td>\n",
       "      <td>741</td>\n",
       "      <td>UNION STREET</td>\n",
       "      <td>11215.0</td>\n",
       "      <td>7186236668</td>\n",
       "      <td>Ice Cream, Gelato, Yogurt, Ices</td>\n",
       "      <td>Evidence of mice or live mice present in facil...</td>\n",
       "      <td>22.0</td>\n",
       "      <td>B</td>\n",
       "    </tr>\n",
       "    <tr>\n",
       "      <th>1</th>\n",
       "      <td>ARABICA HOOKAH LOUNGE &amp; RESTAURANT INC</td>\n",
       "      <td>Staten Island</td>\n",
       "      <td>4162</td>\n",
       "      <td>VICTORY BLVD</td>\n",
       "      <td>10314.0</td>\n",
       "      <td>7189828888</td>\n",
       "      <td>Middle Eastern</td>\n",
       "      <td>Personal cleanliness inadequate. Outer garment...</td>\n",
       "      <td>12.0</td>\n",
       "      <td>A</td>\n",
       "    </tr>\n",
       "    <tr>\n",
       "      <th>2</th>\n",
       "      <td>BOEUF &amp; BUN</td>\n",
       "      <td>Brooklyn</td>\n",
       "      <td>271</td>\n",
       "      <td>KINGSTON AVE</td>\n",
       "      <td>11213.0</td>\n",
       "      <td>7182218900</td>\n",
       "      <td>Jewish/Kosher</td>\n",
       "      <td>Facility not vermin proof. Harborage or condit...</td>\n",
       "      <td>18.0</td>\n",
       "      <td>NaN</td>\n",
       "    </tr>\n",
       "    <tr>\n",
       "      <th>3</th>\n",
       "      <td>EL TRI MX RESTAURANT &amp; BAR CORP</td>\n",
       "      <td>Queens</td>\n",
       "      <td>9912</td>\n",
       "      <td>NORTHERN BLVD</td>\n",
       "      <td>11368.0</td>\n",
       "      <td>7184249600</td>\n",
       "      <td>Mexican</td>\n",
       "      <td>“Choking first aid” poster not posted. “Alcoho...</td>\n",
       "      <td>NaN</td>\n",
       "      <td>NaN</td>\n",
       "    </tr>\n",
       "    <tr>\n",
       "      <th>4</th>\n",
       "      <td>BAMBOO GARDEN CHINESE RESTAURANT</td>\n",
       "      <td>Queens</td>\n",
       "      <td>14610</td>\n",
       "      <td>LIBERTY AVENUE</td>\n",
       "      <td>11435.0</td>\n",
       "      <td>7182061339</td>\n",
       "      <td>Chinese</td>\n",
       "      <td>Facility not vermin proof. Harborage or condit...</td>\n",
       "      <td>18.0</td>\n",
       "      <td>NaN</td>\n",
       "    </tr>\n",
       "  </tbody>\n",
       "</table>\n",
       "</div>"
      ],
      "text/plain": [
       "                                        DBA           BORO BUILDING  \\\n",
       "0  UNCLE LOUIE G’S ITALIAN ICES & ICE CREAM       Brooklyn      741   \n",
       "1    ARABICA HOOKAH LOUNGE & RESTAURANT INC  Staten Island     4162   \n",
       "2                               BOEUF & BUN       Brooklyn      271   \n",
       "3           EL TRI MX RESTAURANT & BAR CORP         Queens     9912   \n",
       "4          BAMBOO GARDEN CHINESE RESTAURANT         Queens    14610   \n",
       "\n",
       "           STREET  ZIPCODE       PHONE              CUISINE DESCRIPTION  \\\n",
       "0    UNION STREET  11215.0  7186236668  Ice Cream, Gelato, Yogurt, Ices   \n",
       "1    VICTORY BLVD  10314.0  7189828888                   Middle Eastern   \n",
       "2    KINGSTON AVE  11213.0  7182218900                    Jewish/Kosher   \n",
       "3   NORTHERN BLVD  11368.0  7184249600                          Mexican   \n",
       "4  LIBERTY AVENUE  11435.0  7182061339                          Chinese   \n",
       "\n",
       "                               VIOLATION DESCRIPTION  SCORE GRADE  \n",
       "0  Evidence of mice or live mice present in facil...   22.0     B  \n",
       "1  Personal cleanliness inadequate. Outer garment...   12.0     A  \n",
       "2  Facility not vermin proof. Harborage or condit...   18.0   NaN  \n",
       "3  “Choking first aid” poster not posted. “Alcoho...    NaN   NaN  \n",
       "4  Facility not vermin proof. Harborage or condit...   18.0   NaN  "
      ]
     },
     "execution_count": 11,
     "metadata": {},
     "output_type": "execute_result"
    }
   ],
   "source": [
    "ny_data.head()"
   ]
  },
  {
   "cell_type": "code",
   "execution_count": 12,
   "metadata": {},
   "outputs": [
    {
     "data": {
      "text/plain": [
       "228"
      ]
     },
     "execution_count": 12,
     "metadata": {},
     "output_type": "execute_result"
    }
   ],
   "source": [
    "len(ny_data['ZIPCODE'].unique())"
   ]
  },
  {
   "cell_type": "markdown",
   "metadata": {},
   "source": [
    "# Group by zip code and calculate the proportion of each cuisine type"
   ]
  },
  {
   "cell_type": "code",
   "execution_count": 13,
   "metadata": {},
   "outputs": [
    {
     "data": {
      "text/html": [
       "<div>\n",
       "<style scoped>\n",
       "    .dataframe tbody tr th:only-of-type {\n",
       "        vertical-align: middle;\n",
       "    }\n",
       "\n",
       "    .dataframe tbody tr th {\n",
       "        vertical-align: top;\n",
       "    }\n",
       "\n",
       "    .dataframe thead th {\n",
       "        text-align: right;\n",
       "    }\n",
       "</style>\n",
       "<table border=\"1\" class=\"dataframe\">\n",
       "  <thead>\n",
       "    <tr style=\"text-align: right;\">\n",
       "      <th>CUISINE DESCRIPTION</th>\n",
       "      <th>postalcode</th>\n",
       "      <th>Afghan</th>\n",
       "      <th>African</th>\n",
       "      <th>American</th>\n",
       "      <th>Armenian</th>\n",
       "      <th>Asian</th>\n",
       "      <th>Australian</th>\n",
       "      <th>Bagels/Pretzels</th>\n",
       "      <th>Bakery</th>\n",
       "      <th>Bangladeshi</th>\n",
       "      <th>...</th>\n",
       "      <th>Soups &amp; Sandwiches</th>\n",
       "      <th>Southwestern</th>\n",
       "      <th>Spanish</th>\n",
       "      <th>Steak</th>\n",
       "      <th>Tapas</th>\n",
       "      <th>Tex-Mex</th>\n",
       "      <th>Thai</th>\n",
       "      <th>Turkish</th>\n",
       "      <th>Vegetarian</th>\n",
       "      <th>Vietnamese/Cambodian/Malaysia</th>\n",
       "    </tr>\n",
       "  </thead>\n",
       "  <tbody>\n",
       "    <tr>\n",
       "      <th>0</th>\n",
       "      <td>10000.0</td>\n",
       "      <td>0.000000</td>\n",
       "      <td>0.000000</td>\n",
       "      <td>0.500000</td>\n",
       "      <td>0.0</td>\n",
       "      <td>0.000000</td>\n",
       "      <td>0.000000</td>\n",
       "      <td>0.000000</td>\n",
       "      <td>0.000000</td>\n",
       "      <td>0.000000</td>\n",
       "      <td>...</td>\n",
       "      <td>0.000000</td>\n",
       "      <td>0.0</td>\n",
       "      <td>0.000000</td>\n",
       "      <td>0.000000</td>\n",
       "      <td>0.000000</td>\n",
       "      <td>0.000000</td>\n",
       "      <td>0.000000</td>\n",
       "      <td>0.0</td>\n",
       "      <td>0.000000</td>\n",
       "      <td>0.000000</td>\n",
       "    </tr>\n",
       "    <tr>\n",
       "      <th>1</th>\n",
       "      <td>10001.0</td>\n",
       "      <td>0.000000</td>\n",
       "      <td>0.003839</td>\n",
       "      <td>0.312860</td>\n",
       "      <td>0.0</td>\n",
       "      <td>0.019194</td>\n",
       "      <td>0.001919</td>\n",
       "      <td>0.009597</td>\n",
       "      <td>0.009597</td>\n",
       "      <td>0.000000</td>\n",
       "      <td>...</td>\n",
       "      <td>0.000000</td>\n",
       "      <td>0.0</td>\n",
       "      <td>0.015355</td>\n",
       "      <td>0.005758</td>\n",
       "      <td>0.001919</td>\n",
       "      <td>0.003839</td>\n",
       "      <td>0.001919</td>\n",
       "      <td>0.0</td>\n",
       "      <td>0.003839</td>\n",
       "      <td>0.000000</td>\n",
       "    </tr>\n",
       "    <tr>\n",
       "      <th>2</th>\n",
       "      <td>10002.0</td>\n",
       "      <td>0.000000</td>\n",
       "      <td>0.000000</td>\n",
       "      <td>0.197318</td>\n",
       "      <td>0.0</td>\n",
       "      <td>0.036398</td>\n",
       "      <td>0.005747</td>\n",
       "      <td>0.001916</td>\n",
       "      <td>0.057471</td>\n",
       "      <td>0.001916</td>\n",
       "      <td>...</td>\n",
       "      <td>0.000000</td>\n",
       "      <td>0.0</td>\n",
       "      <td>0.013410</td>\n",
       "      <td>0.000000</td>\n",
       "      <td>0.003831</td>\n",
       "      <td>0.001916</td>\n",
       "      <td>0.017241</td>\n",
       "      <td>0.0</td>\n",
       "      <td>0.007663</td>\n",
       "      <td>0.009579</td>\n",
       "    </tr>\n",
       "    <tr>\n",
       "      <th>3</th>\n",
       "      <td>10003.0</td>\n",
       "      <td>0.001471</td>\n",
       "      <td>0.000000</td>\n",
       "      <td>0.220588</td>\n",
       "      <td>0.0</td>\n",
       "      <td>0.022059</td>\n",
       "      <td>0.001471</td>\n",
       "      <td>0.002941</td>\n",
       "      <td>0.013235</td>\n",
       "      <td>0.002941</td>\n",
       "      <td>...</td>\n",
       "      <td>0.001471</td>\n",
       "      <td>0.0</td>\n",
       "      <td>0.002941</td>\n",
       "      <td>0.001471</td>\n",
       "      <td>0.002941</td>\n",
       "      <td>0.004412</td>\n",
       "      <td>0.019118</td>\n",
       "      <td>0.0</td>\n",
       "      <td>0.016176</td>\n",
       "      <td>0.004412</td>\n",
       "    </tr>\n",
       "    <tr>\n",
       "      <th>4</th>\n",
       "      <td>10004.0</td>\n",
       "      <td>0.000000</td>\n",
       "      <td>0.000000</td>\n",
       "      <td>0.297297</td>\n",
       "      <td>0.0</td>\n",
       "      <td>0.013514</td>\n",
       "      <td>0.000000</td>\n",
       "      <td>0.054054</td>\n",
       "      <td>0.006757</td>\n",
       "      <td>0.000000</td>\n",
       "      <td>...</td>\n",
       "      <td>0.006757</td>\n",
       "      <td>0.0</td>\n",
       "      <td>0.000000</td>\n",
       "      <td>0.006757</td>\n",
       "      <td>0.000000</td>\n",
       "      <td>0.000000</td>\n",
       "      <td>0.006757</td>\n",
       "      <td>0.0</td>\n",
       "      <td>0.000000</td>\n",
       "      <td>0.000000</td>\n",
       "    </tr>\n",
       "    <tr>\n",
       "      <th>5</th>\n",
       "      <td>10005.0</td>\n",
       "      <td>0.000000</td>\n",
       "      <td>0.000000</td>\n",
       "      <td>0.357143</td>\n",
       "      <td>0.0</td>\n",
       "      <td>0.000000</td>\n",
       "      <td>0.000000</td>\n",
       "      <td>0.000000</td>\n",
       "      <td>0.000000</td>\n",
       "      <td>0.000000</td>\n",
       "      <td>...</td>\n",
       "      <td>0.000000</td>\n",
       "      <td>0.0</td>\n",
       "      <td>0.000000</td>\n",
       "      <td>0.000000</td>\n",
       "      <td>0.000000</td>\n",
       "      <td>0.000000</td>\n",
       "      <td>0.000000</td>\n",
       "      <td>0.0</td>\n",
       "      <td>0.000000</td>\n",
       "      <td>0.000000</td>\n",
       "    </tr>\n",
       "    <tr>\n",
       "      <th>6</th>\n",
       "      <td>10006.0</td>\n",
       "      <td>0.000000</td>\n",
       "      <td>0.000000</td>\n",
       "      <td>0.431373</td>\n",
       "      <td>0.0</td>\n",
       "      <td>0.019608</td>\n",
       "      <td>0.000000</td>\n",
       "      <td>0.000000</td>\n",
       "      <td>0.000000</td>\n",
       "      <td>0.000000</td>\n",
       "      <td>...</td>\n",
       "      <td>0.000000</td>\n",
       "      <td>0.0</td>\n",
       "      <td>0.000000</td>\n",
       "      <td>0.019608</td>\n",
       "      <td>0.000000</td>\n",
       "      <td>0.000000</td>\n",
       "      <td>0.000000</td>\n",
       "      <td>0.0</td>\n",
       "      <td>0.000000</td>\n",
       "      <td>0.000000</td>\n",
       "    </tr>\n",
       "    <tr>\n",
       "      <th>7</th>\n",
       "      <td>10007.0</td>\n",
       "      <td>0.000000</td>\n",
       "      <td>0.000000</td>\n",
       "      <td>0.318841</td>\n",
       "      <td>0.0</td>\n",
       "      <td>0.014493</td>\n",
       "      <td>0.000000</td>\n",
       "      <td>0.007246</td>\n",
       "      <td>0.007246</td>\n",
       "      <td>0.007246</td>\n",
       "      <td>...</td>\n",
       "      <td>0.000000</td>\n",
       "      <td>0.0</td>\n",
       "      <td>0.007246</td>\n",
       "      <td>0.014493</td>\n",
       "      <td>0.000000</td>\n",
       "      <td>0.021739</td>\n",
       "      <td>0.000000</td>\n",
       "      <td>0.0</td>\n",
       "      <td>0.007246</td>\n",
       "      <td>0.000000</td>\n",
       "    </tr>\n",
       "    <tr>\n",
       "      <th>8</th>\n",
       "      <td>10009.0</td>\n",
       "      <td>0.000000</td>\n",
       "      <td>0.000000</td>\n",
       "      <td>0.279461</td>\n",
       "      <td>0.0</td>\n",
       "      <td>0.037037</td>\n",
       "      <td>0.000000</td>\n",
       "      <td>0.006734</td>\n",
       "      <td>0.013468</td>\n",
       "      <td>0.000000</td>\n",
       "      <td>...</td>\n",
       "      <td>0.000000</td>\n",
       "      <td>0.0</td>\n",
       "      <td>0.013468</td>\n",
       "      <td>0.000000</td>\n",
       "      <td>0.006734</td>\n",
       "      <td>0.003367</td>\n",
       "      <td>0.013468</td>\n",
       "      <td>0.0</td>\n",
       "      <td>0.020202</td>\n",
       "      <td>0.006734</td>\n",
       "    </tr>\n",
       "    <tr>\n",
       "      <th>9</th>\n",
       "      <td>10010.0</td>\n",
       "      <td>0.000000</td>\n",
       "      <td>0.000000</td>\n",
       "      <td>0.317829</td>\n",
       "      <td>0.0</td>\n",
       "      <td>0.011628</td>\n",
       "      <td>0.000000</td>\n",
       "      <td>0.015504</td>\n",
       "      <td>0.007752</td>\n",
       "      <td>0.000000</td>\n",
       "      <td>...</td>\n",
       "      <td>0.003876</td>\n",
       "      <td>0.0</td>\n",
       "      <td>0.003876</td>\n",
       "      <td>0.003876</td>\n",
       "      <td>0.007752</td>\n",
       "      <td>0.011628</td>\n",
       "      <td>0.019380</td>\n",
       "      <td>0.0</td>\n",
       "      <td>0.007752</td>\n",
       "      <td>0.011628</td>\n",
       "    </tr>\n",
       "  </tbody>\n",
       "</table>\n",
       "<p>10 rows × 85 columns</p>\n",
       "</div>"
      ],
      "text/plain": [
       "CUISINE DESCRIPTION  postalcode    Afghan   African  American  Armenian  \\\n",
       "0                       10000.0  0.000000  0.000000  0.500000       0.0   \n",
       "1                       10001.0  0.000000  0.003839  0.312860       0.0   \n",
       "2                       10002.0  0.000000  0.000000  0.197318       0.0   \n",
       "3                       10003.0  0.001471  0.000000  0.220588       0.0   \n",
       "4                       10004.0  0.000000  0.000000  0.297297       0.0   \n",
       "5                       10005.0  0.000000  0.000000  0.357143       0.0   \n",
       "6                       10006.0  0.000000  0.000000  0.431373       0.0   \n",
       "7                       10007.0  0.000000  0.000000  0.318841       0.0   \n",
       "8                       10009.0  0.000000  0.000000  0.279461       0.0   \n",
       "9                       10010.0  0.000000  0.000000  0.317829       0.0   \n",
       "\n",
       "CUISINE DESCRIPTION     Asian  Australian  Bagels/Pretzels    Bakery  \\\n",
       "0                    0.000000    0.000000         0.000000  0.000000   \n",
       "1                    0.019194    0.001919         0.009597  0.009597   \n",
       "2                    0.036398    0.005747         0.001916  0.057471   \n",
       "3                    0.022059    0.001471         0.002941  0.013235   \n",
       "4                    0.013514    0.000000         0.054054  0.006757   \n",
       "5                    0.000000    0.000000         0.000000  0.000000   \n",
       "6                    0.019608    0.000000         0.000000  0.000000   \n",
       "7                    0.014493    0.000000         0.007246  0.007246   \n",
       "8                    0.037037    0.000000         0.006734  0.013468   \n",
       "9                    0.011628    0.000000         0.015504  0.007752   \n",
       "\n",
       "CUISINE DESCRIPTION  Bangladeshi  ...  Soups & Sandwiches  Southwestern  \\\n",
       "0                       0.000000  ...            0.000000           0.0   \n",
       "1                       0.000000  ...            0.000000           0.0   \n",
       "2                       0.001916  ...            0.000000           0.0   \n",
       "3                       0.002941  ...            0.001471           0.0   \n",
       "4                       0.000000  ...            0.006757           0.0   \n",
       "5                       0.000000  ...            0.000000           0.0   \n",
       "6                       0.000000  ...            0.000000           0.0   \n",
       "7                       0.007246  ...            0.000000           0.0   \n",
       "8                       0.000000  ...            0.000000           0.0   \n",
       "9                       0.000000  ...            0.003876           0.0   \n",
       "\n",
       "CUISINE DESCRIPTION   Spanish     Steak     Tapas   Tex-Mex      Thai  \\\n",
       "0                    0.000000  0.000000  0.000000  0.000000  0.000000   \n",
       "1                    0.015355  0.005758  0.001919  0.003839  0.001919   \n",
       "2                    0.013410  0.000000  0.003831  0.001916  0.017241   \n",
       "3                    0.002941  0.001471  0.002941  0.004412  0.019118   \n",
       "4                    0.000000  0.006757  0.000000  0.000000  0.006757   \n",
       "5                    0.000000  0.000000  0.000000  0.000000  0.000000   \n",
       "6                    0.000000  0.019608  0.000000  0.000000  0.000000   \n",
       "7                    0.007246  0.014493  0.000000  0.021739  0.000000   \n",
       "8                    0.013468  0.000000  0.006734  0.003367  0.013468   \n",
       "9                    0.003876  0.003876  0.007752  0.011628  0.019380   \n",
       "\n",
       "CUISINE DESCRIPTION  Turkish  Vegetarian  Vietnamese/Cambodian/Malaysia  \n",
       "0                        0.0    0.000000                       0.000000  \n",
       "1                        0.0    0.003839                       0.000000  \n",
       "2                        0.0    0.007663                       0.009579  \n",
       "3                        0.0    0.016176                       0.004412  \n",
       "4                        0.0    0.000000                       0.000000  \n",
       "5                        0.0    0.000000                       0.000000  \n",
       "6                        0.0    0.000000                       0.000000  \n",
       "7                        0.0    0.007246                       0.000000  \n",
       "8                        0.0    0.020202                       0.006734  \n",
       "9                        0.0    0.007752                       0.011628  \n",
       "\n",
       "[10 rows x 85 columns]"
      ]
     },
     "execution_count": 13,
     "metadata": {},
     "output_type": "execute_result"
    }
   ],
   "source": [
    "cuisine_prop = ny_data.groupby(['ZIPCODE','CUISINE DESCRIPTION']).size() / ny_data.groupby('ZIPCODE').size()\n",
    "cuisine_prop = cuisine_prop.unstack(level=-1, fill_value=0)\n",
    "cuisine_prop.reset_index(inplace=True)\n",
    "cuisine_prop = cuisine_prop.rename(columns = {'ZIPCODE': 'postalcode'})\n",
    "cuisine_prop.head(10)\n",
    "restaurants = cuisine_prop\n",
    "restaurants.head(10)"
   ]
  },
  {
   "cell_type": "code",
   "execution_count": 14,
   "metadata": {},
   "outputs": [
    {
     "data": {
      "text/plain": [
       "227"
      ]
     },
     "execution_count": 14,
     "metadata": {},
     "output_type": "execute_result"
    }
   ],
   "source": [
    "len(restaurants['postalcode'].unique())"
   ]
  },
  {
   "cell_type": "markdown",
   "metadata": {},
   "source": [
    "# Load the geojson zip code data"
   ]
  },
  {
   "cell_type": "code",
   "execution_count": 15,
   "metadata": {},
   "outputs": [],
   "source": [
    "filepath = r'C:\\Users\\Evan\\Desktop\\Capstone 2\\Data\\Raw Data\\nyc_zip_code_tabulation_areas_polygons.geojson'\n",
    "\n",
    "with open(filepath) as json_file:\n",
    "    json_data = json.load(json_file)"
   ]
  },
  {
   "cell_type": "markdown",
   "metadata": {},
   "source": [
    "## Let's find out which zip codes are in the geojson file"
   ]
  },
  {
   "cell_type": "code",
   "execution_count": 16,
   "metadata": {},
   "outputs": [],
   "source": [
    "json_zips = []\n",
    "\n",
    "for f in json_data['features']:\n",
    "    json_zips.append(f['properties']['postalcode'])"
   ]
  },
  {
   "cell_type": "code",
   "execution_count": 17,
   "metadata": {},
   "outputs": [
    {
     "data": {
      "text/plain": [
       "262"
      ]
     },
     "execution_count": 17,
     "metadata": {},
     "output_type": "execute_result"
    }
   ],
   "source": [
    "len(json_zips)"
   ]
  },
  {
   "cell_type": "code",
   "execution_count": 18,
   "metadata": {},
   "outputs": [
    {
     "data": {
      "text/plain": [
       "247"
      ]
     },
     "execution_count": 18,
     "metadata": {},
     "output_type": "execute_result"
    }
   ],
   "source": [
    "len(set(json_zips))"
   ]
  },
  {
   "cell_type": "markdown",
   "metadata": {},
   "source": [
    "# There are more zip codes in the geojson file than in the restaurant file. Also there are duplicates in the geojson.\n",
    "\n",
    "## Let's find out which zip codes differ between the two."
   ]
  },
  {
   "cell_type": "code",
   "execution_count": 19,
   "metadata": {},
   "outputs": [],
   "source": [
    "restaurants_set = set(restaurants['postalcode'])"
   ]
  },
  {
   "cell_type": "code",
   "execution_count": 20,
   "metadata": {},
   "outputs": [],
   "source": [
    "for i in range(0, len(json_zips)): \n",
    "    json_zips[i] = int(json_zips[i])\n",
    "\n",
    "json_set = set(json_zips)"
   ]
  },
  {
   "cell_type": "code",
   "execution_count": 21,
   "metadata": {},
   "outputs": [],
   "source": [
    "restaurants_not_json = restaurants_set.difference(json_set)\n",
    "\n",
    "json_not_restaurants = json_set.difference(restaurants_set)"
   ]
  },
  {
   "cell_type": "code",
   "execution_count": 22,
   "metadata": {},
   "outputs": [
    {
     "data": {
      "text/plain": [
       "{10000.0, 10179.0, 11241.0, 11242.0, 11249.0, 11550.0, 12345.0}"
      ]
     },
     "execution_count": 22,
     "metadata": {},
     "output_type": "execute_result"
    }
   ],
   "source": [
    "restaurants_not_json"
   ]
  },
  {
   "cell_type": "code",
   "execution_count": 23,
   "metadata": {},
   "outputs": [
    {
     "data": {
      "text/plain": [
       "{83,\n",
       " 10043,\n",
       " 10045,\n",
       " 10047,\n",
       " 10081,\n",
       " 10096,\n",
       " 10097,\n",
       " 10104,\n",
       " 10110,\n",
       " 10120,\n",
       " 10122,\n",
       " 10152,\n",
       " 10162,\n",
       " 10166,\n",
       " 10175,\n",
       " 10196,\n",
       " 10203,\n",
       " 10259,\n",
       " 10260,\n",
       " 10265,\n",
       " 10270,\n",
       " 10275,\n",
       " 10278,\n",
       " 10286,\n",
       " 11096,\n",
       " 11359,\n",
       " 11451}"
      ]
     },
     "execution_count": 23,
     "metadata": {},
     "output_type": "execute_result"
    }
   ],
   "source": [
    "json_not_restaurants"
   ]
  },
  {
   "cell_type": "markdown",
   "metadata": {},
   "source": [
    "# The zip codes do not match exactly so we need to make them match.\n",
    "\n",
    "## First let's remove duplicates from the json"
   ]
  },
  {
   "cell_type": "code",
   "execution_count": 24,
   "metadata": {},
   "outputs": [
    {
     "data": {
      "text/plain": [
       "247"
      ]
     },
     "execution_count": 24,
     "metadata": {},
     "output_type": "execute_result"
    }
   ],
   "source": [
    "data = json_data['features']\n",
    "\n",
    "unique_elements = { each['properties']['postalcode'] : each for each in data }.values()\n",
    "len(unique_elements)"
   ]
  },
  {
   "cell_type": "code",
   "execution_count": 25,
   "metadata": {},
   "outputs": [],
   "source": [
    "json_data['features'] = list(unique_elements)"
   ]
  },
  {
   "cell_type": "code",
   "execution_count": 26,
   "metadata": {},
   "outputs": [
    {
     "data": {
      "text/plain": [
       "247"
      ]
     },
     "execution_count": 26,
     "metadata": {},
     "output_type": "execute_result"
    }
   ],
   "source": [
    "len(json_data['features'])"
   ]
  },
  {
   "cell_type": "markdown",
   "metadata": {},
   "source": [
    "# Now I delete rows from the restaurants data that is not in the json."
   ]
  },
  {
   "cell_type": "code",
   "execution_count": 27,
   "metadata": {},
   "outputs": [],
   "source": [
    "restaurants = restaurants[~restaurants['postalcode'].isin(list(restaurants_not_json))]"
   ]
  },
  {
   "cell_type": "code",
   "execution_count": 28,
   "metadata": {},
   "outputs": [
    {
     "data": {
      "text/plain": [
       "220"
      ]
     },
     "execution_count": 28,
     "metadata": {},
     "output_type": "execute_result"
    }
   ],
   "source": [
    "len(restaurants)"
   ]
  },
  {
   "cell_type": "markdown",
   "metadata": {},
   "source": [
    "# Now I delete rows from the json that are not in the restaurants data."
   ]
  },
  {
   "cell_type": "code",
   "execution_count": 29,
   "metadata": {},
   "outputs": [],
   "source": [
    "new_features = []\n",
    "for element in json_data['features']:\n",
    "    if int(element['properties']['postalcode']) not in list(json_not_restaurants):\n",
    "        new_features.append(element)"
   ]
  },
  {
   "cell_type": "code",
   "execution_count": 30,
   "metadata": {},
   "outputs": [],
   "source": [
    "json_data['features'] = new_features"
   ]
  },
  {
   "cell_type": "code",
   "execution_count": 31,
   "metadata": {},
   "outputs": [
    {
     "data": {
      "text/plain": [
       "220"
      ]
     },
     "execution_count": 31,
     "metadata": {},
     "output_type": "execute_result"
    }
   ],
   "source": [
    "len(json_data['features'])"
   ]
  },
  {
   "cell_type": "markdown",
   "metadata": {},
   "source": [
    "# Now merge the restaurants data with other data useful for mapping"
   ]
  },
  {
   "cell_type": "code",
   "execution_count": 32,
   "metadata": {},
   "outputs": [
    {
     "name": "stderr",
     "output_type": "stream",
     "text": [
      "C:\\Users\\Evan\\Anaconda3\\lib\\site-packages\\ipykernel_launcher.py:4: SettingWithCopyWarning: \n",
      "A value is trying to be set on a copy of a slice from a DataFrame.\n",
      "Try using .loc[row_indexer,col_indexer] = value instead\n",
      "\n",
      "See the caveats in the documentation: http://pandas.pydata.org/pandas-docs/stable/indexing.html#indexing-view-versus-copy\n",
      "  after removing the cwd from sys.path.\n"
     ]
    }
   ],
   "source": [
    "# Convert the median income variable to numeric\n",
    "ny_pop_inc['med_income'] = pd.to_numeric(ny_pop_inc['med_income'], errors='coerce')\n",
    "# Convert the postalcode variable to int\n",
    "restaurants['postalcode'] = restaurants['postalcode'].astype('int')\n",
    "# Merge the population and income data with the restaurant data\n",
    "restaurants = restaurants.merge(ny_pop_inc, how='left', on='postalcode')"
   ]
  },
  {
   "cell_type": "code",
   "execution_count": 33,
   "metadata": {},
   "outputs": [],
   "source": [
    "# Calculate the total number of restaurants in each zipcode and merge into the dataframe\n",
    "total_restaurants = ny_data.groupby('ZIPCODE').size()\n",
    "total_restaurants = pd.DataFrame(data = {'postalcode':total_restaurants.index, 'total_restaurants':total_restaurants.values}, dtype=np.int64)\n",
    "restaurants = restaurants.merge(total_restaurants, how='left', on='postalcode')"
   ]
  },
  {
   "cell_type": "code",
   "execution_count": 34,
   "metadata": {},
   "outputs": [],
   "source": [
    "# Calculate number of restaurants per capita\n",
    "restaurants['RPC'] = restaurants['total_restaurants'] / restaurants['population']"
   ]
  },
  {
   "cell_type": "code",
   "execution_count": 35,
   "metadata": {},
   "outputs": [
    {
     "data": {
      "text/html": [
       "<div>\n",
       "<style scoped>\n",
       "    .dataframe tbody tr th:only-of-type {\n",
       "        vertical-align: middle;\n",
       "    }\n",
       "\n",
       "    .dataframe tbody tr th {\n",
       "        vertical-align: top;\n",
       "    }\n",
       "\n",
       "    .dataframe thead th {\n",
       "        text-align: right;\n",
       "    }\n",
       "</style>\n",
       "<table border=\"1\" class=\"dataframe\">\n",
       "  <thead>\n",
       "    <tr style=\"text-align: right;\">\n",
       "      <th></th>\n",
       "      <th>postalcode</th>\n",
       "      <th>Afghan</th>\n",
       "      <th>African</th>\n",
       "      <th>American</th>\n",
       "      <th>Armenian</th>\n",
       "      <th>Asian</th>\n",
       "      <th>Australian</th>\n",
       "      <th>Bagels/Pretzels</th>\n",
       "      <th>Bakery</th>\n",
       "      <th>Bangladeshi</th>\n",
       "      <th>...</th>\n",
       "      <th>Tapas</th>\n",
       "      <th>Tex-Mex</th>\n",
       "      <th>Thai</th>\n",
       "      <th>Turkish</th>\n",
       "      <th>Vegetarian</th>\n",
       "      <th>Vietnamese/Cambodian/Malaysia</th>\n",
       "      <th>population</th>\n",
       "      <th>med_income</th>\n",
       "      <th>total_restaurants</th>\n",
       "      <th>RPC</th>\n",
       "    </tr>\n",
       "  </thead>\n",
       "  <tbody>\n",
       "    <tr>\n",
       "      <th>0</th>\n",
       "      <td>10001</td>\n",
       "      <td>0.000000</td>\n",
       "      <td>0.003839</td>\n",
       "      <td>0.312860</td>\n",
       "      <td>0.0</td>\n",
       "      <td>0.019194</td>\n",
       "      <td>0.001919</td>\n",
       "      <td>0.009597</td>\n",
       "      <td>0.009597</td>\n",
       "      <td>0.000000</td>\n",
       "      <td>...</td>\n",
       "      <td>0.001919</td>\n",
       "      <td>0.003839</td>\n",
       "      <td>0.001919</td>\n",
       "      <td>0.0</td>\n",
       "      <td>0.003839</td>\n",
       "      <td>0.000000</td>\n",
       "      <td>23947.0</td>\n",
       "      <td>85221.0</td>\n",
       "      <td>521</td>\n",
       "      <td>0.021756</td>\n",
       "    </tr>\n",
       "    <tr>\n",
       "      <th>1</th>\n",
       "      <td>10002</td>\n",
       "      <td>0.000000</td>\n",
       "      <td>0.000000</td>\n",
       "      <td>0.197318</td>\n",
       "      <td>0.0</td>\n",
       "      <td>0.036398</td>\n",
       "      <td>0.005747</td>\n",
       "      <td>0.001916</td>\n",
       "      <td>0.057471</td>\n",
       "      <td>0.001916</td>\n",
       "      <td>...</td>\n",
       "      <td>0.003831</td>\n",
       "      <td>0.001916</td>\n",
       "      <td>0.017241</td>\n",
       "      <td>0.0</td>\n",
       "      <td>0.007663</td>\n",
       "      <td>0.009579</td>\n",
       "      <td>77925.0</td>\n",
       "      <td>35449.0</td>\n",
       "      <td>522</td>\n",
       "      <td>0.006699</td>\n",
       "    </tr>\n",
       "    <tr>\n",
       "      <th>2</th>\n",
       "      <td>10003</td>\n",
       "      <td>0.001471</td>\n",
       "      <td>0.000000</td>\n",
       "      <td>0.220588</td>\n",
       "      <td>0.0</td>\n",
       "      <td>0.022059</td>\n",
       "      <td>0.001471</td>\n",
       "      <td>0.002941</td>\n",
       "      <td>0.013235</td>\n",
       "      <td>0.002941</td>\n",
       "      <td>...</td>\n",
       "      <td>0.002941</td>\n",
       "      <td>0.004412</td>\n",
       "      <td>0.019118</td>\n",
       "      <td>0.0</td>\n",
       "      <td>0.016176</td>\n",
       "      <td>0.004412</td>\n",
       "      <td>55035.0</td>\n",
       "      <td>104441.0</td>\n",
       "      <td>680</td>\n",
       "      <td>0.012356</td>\n",
       "    </tr>\n",
       "    <tr>\n",
       "      <th>3</th>\n",
       "      <td>10004</td>\n",
       "      <td>0.000000</td>\n",
       "      <td>0.000000</td>\n",
       "      <td>0.297297</td>\n",
       "      <td>0.0</td>\n",
       "      <td>0.013514</td>\n",
       "      <td>0.000000</td>\n",
       "      <td>0.054054</td>\n",
       "      <td>0.006757</td>\n",
       "      <td>0.000000</td>\n",
       "      <td>...</td>\n",
       "      <td>0.000000</td>\n",
       "      <td>0.000000</td>\n",
       "      <td>0.006757</td>\n",
       "      <td>0.0</td>\n",
       "      <td>0.000000</td>\n",
       "      <td>0.000000</td>\n",
       "      <td>2990.0</td>\n",
       "      <td>140450.0</td>\n",
       "      <td>148</td>\n",
       "      <td>0.049498</td>\n",
       "    </tr>\n",
       "    <tr>\n",
       "      <th>4</th>\n",
       "      <td>10005</td>\n",
       "      <td>0.000000</td>\n",
       "      <td>0.000000</td>\n",
       "      <td>0.357143</td>\n",
       "      <td>0.0</td>\n",
       "      <td>0.000000</td>\n",
       "      <td>0.000000</td>\n",
       "      <td>0.000000</td>\n",
       "      <td>0.000000</td>\n",
       "      <td>0.000000</td>\n",
       "      <td>...</td>\n",
       "      <td>0.000000</td>\n",
       "      <td>0.000000</td>\n",
       "      <td>0.000000</td>\n",
       "      <td>0.0</td>\n",
       "      <td>0.000000</td>\n",
       "      <td>0.000000</td>\n",
       "      <td>8680.0</td>\n",
       "      <td>154213.0</td>\n",
       "      <td>70</td>\n",
       "      <td>0.008065</td>\n",
       "    </tr>\n",
       "  </tbody>\n",
       "</table>\n",
       "<p>5 rows × 89 columns</p>\n",
       "</div>"
      ],
      "text/plain": [
       "   postalcode    Afghan   African  American  Armenian     Asian  Australian  \\\n",
       "0       10001  0.000000  0.003839  0.312860       0.0  0.019194    0.001919   \n",
       "1       10002  0.000000  0.000000  0.197318       0.0  0.036398    0.005747   \n",
       "2       10003  0.001471  0.000000  0.220588       0.0  0.022059    0.001471   \n",
       "3       10004  0.000000  0.000000  0.297297       0.0  0.013514    0.000000   \n",
       "4       10005  0.000000  0.000000  0.357143       0.0  0.000000    0.000000   \n",
       "\n",
       "   Bagels/Pretzels    Bakery  Bangladeshi  ...     Tapas   Tex-Mex      Thai  \\\n",
       "0         0.009597  0.009597     0.000000  ...  0.001919  0.003839  0.001919   \n",
       "1         0.001916  0.057471     0.001916  ...  0.003831  0.001916  0.017241   \n",
       "2         0.002941  0.013235     0.002941  ...  0.002941  0.004412  0.019118   \n",
       "3         0.054054  0.006757     0.000000  ...  0.000000  0.000000  0.006757   \n",
       "4         0.000000  0.000000     0.000000  ...  0.000000  0.000000  0.000000   \n",
       "\n",
       "   Turkish  Vegetarian  Vietnamese/Cambodian/Malaysia  population  med_income  \\\n",
       "0      0.0    0.003839                       0.000000     23947.0     85221.0   \n",
       "1      0.0    0.007663                       0.009579     77925.0     35449.0   \n",
       "2      0.0    0.016176                       0.004412     55035.0    104441.0   \n",
       "3      0.0    0.000000                       0.000000      2990.0    140450.0   \n",
       "4      0.0    0.000000                       0.000000      8680.0    154213.0   \n",
       "\n",
       "   total_restaurants       RPC  \n",
       "0                521  0.021756  \n",
       "1                522  0.006699  \n",
       "2                680  0.012356  \n",
       "3                148  0.049498  \n",
       "4                 70  0.008065  \n",
       "\n",
       "[5 rows x 89 columns]"
      ]
     },
     "execution_count": 35,
     "metadata": {},
     "output_type": "execute_result"
    }
   ],
   "source": [
    "restaurants.head()"
   ]
  },
  {
   "cell_type": "markdown",
   "metadata": {},
   "source": [
    "# Output the data for analysis and further cleaning"
   ]
  },
  {
   "cell_type": "code",
   "execution_count": 36,
   "metadata": {},
   "outputs": [],
   "source": [
    "with open(r'C:\\Users\\Evan\\Desktop\\Capstone 2\\Data\\Intermediate Data\\JSONs\\nyc_zip_codes.geojson', 'w') as outfile:\n",
    "    json.dump(json_data, outfile)"
   ]
  },
  {
   "cell_type": "code",
   "execution_count": 37,
   "metadata": {},
   "outputs": [],
   "source": [
    "restaurants.to_csv(r'C:\\Users\\Evan\\Desktop\\Capstone 2\\Data\\Intermediate Data\\CSVs\\restaurants.csv')"
   ]
  },
  {
   "cell_type": "code",
   "execution_count": null,
   "metadata": {},
   "outputs": [],
   "source": []
  }
 ],
 "metadata": {
  "kernelspec": {
   "display_name": "Python 3",
   "language": "python",
   "name": "python3"
  },
  "language_info": {
   "codemirror_mode": {
    "name": "ipython",
    "version": 3
   },
   "file_extension": ".py",
   "mimetype": "text/x-python",
   "name": "python",
   "nbconvert_exporter": "python",
   "pygments_lexer": "ipython3",
   "version": "3.7.6"
  }
 },
 "nbformat": 4,
 "nbformat_minor": 2
}
